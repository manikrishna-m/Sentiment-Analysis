{
 "cells": [
  {
   "cell_type": "markdown",
   "id": "8e7ce286-54ed-47dd-be8f-43e1d39c5c3d",
   "metadata": {},
   "source": [
    "### Import the Required Packages"
   ]
  },
  {
   "cell_type": "code",
   "execution_count": 206,
   "id": "68cf7130-a12c-4da0-84bc-13be2ddfffce",
   "metadata": {},
   "outputs": [
    {
     "name": "stderr",
     "output_type": "stream",
     "text": [
      "[nltk_data] Downloading package stopwords to\n",
      "[nltk_data]     C:\\Users\\mande\\AppData\\Roaming\\nltk_data...\n",
      "[nltk_data]   Package stopwords is already up-to-date!\n",
      "[nltk_data] Downloading package vader_lexicon to\n",
      "[nltk_data]     C:\\Users\\mande\\AppData\\Roaming\\nltk_data...\n",
      "[nltk_data]   Package vader_lexicon is already up-to-date!\n"
     ]
    }
   ],
   "source": [
    "import pandas as pd\n",
    "import numpy as np\n",
    "import seaborn as sns\n",
    "import matplotlib.pyplot as plt\n",
    "import re\n",
    "\n",
    "import nltk\n",
    "from nltk.corpus import stopwords\n",
    "from nltk.sentiment import SentimentIntensityAnalyzer\n",
    "from nltk.stem import WordNetLemmatizer\n",
    "from nltk import FreqDist\n",
    "\n",
    "from sklearn.feature_extraction.text import CountVectorizer,TfidfVectorizer\n",
    "from sklearn.model_selection import train_test_split\n",
    "from sklearn.linear_model import LogisticRegression\n",
    "from sklearn.metrics import accuracy_score\n",
    "\n",
    "nltk.download('stopwords')\n",
    "nltk.download('vader_lexicon')\n",
    "\n",
    "import warnings\n",
    "warnings.filterwarnings(\"ignore\")"
   ]
  },
  {
   "cell_type": "markdown",
   "id": "80117019-cbe8-4031-b842-d83597e6ce1d",
   "metadata": {},
   "source": [
    "### Reading the dataframe"
   ]
  },
  {
   "cell_type": "code",
   "execution_count": 157,
   "id": "654e34a4-946a-4a05-bf1e-352b0c156aab",
   "metadata": {},
   "outputs": [],
   "source": [
    "amazon_df = pd.read_csv(\"amazon_reviews.csv\")"
   ]
  },
  {
   "cell_type": "code",
   "execution_count": 158,
   "id": "6580afd3-6080-42a5-96d4-9bbb83628c86",
   "metadata": {},
   "outputs": [
    {
     "data": {
      "text/html": [
       "<div>\n",
       "<style scoped>\n",
       "    .dataframe tbody tr th:only-of-type {\n",
       "        vertical-align: middle;\n",
       "    }\n",
       "\n",
       "    .dataframe tbody tr th {\n",
       "        vertical-align: top;\n",
       "    }\n",
       "\n",
       "    .dataframe thead th {\n",
       "        text-align: right;\n",
       "    }\n",
       "</style>\n",
       "<table border=\"1\" class=\"dataframe\">\n",
       "  <thead>\n",
       "    <tr style=\"text-align: right;\">\n",
       "      <th></th>\n",
       "      <th>Unnamed: 0</th>\n",
       "      <th>reviewerName</th>\n",
       "      <th>overall</th>\n",
       "      <th>reviewText</th>\n",
       "      <th>reviewTime</th>\n",
       "      <th>day_diff</th>\n",
       "      <th>helpful_yes</th>\n",
       "      <th>helpful_no</th>\n",
       "      <th>total_vote</th>\n",
       "      <th>score_pos_neg_diff</th>\n",
       "      <th>score_average_rating</th>\n",
       "      <th>wilson_lower_bound</th>\n",
       "    </tr>\n",
       "  </thead>\n",
       "  <tbody>\n",
       "    <tr>\n",
       "      <th>0</th>\n",
       "      <td>0</td>\n",
       "      <td>NaN</td>\n",
       "      <td>4.0</td>\n",
       "      <td>No issues.</td>\n",
       "      <td>2014-07-23</td>\n",
       "      <td>138</td>\n",
       "      <td>0</td>\n",
       "      <td>0</td>\n",
       "      <td>0</td>\n",
       "      <td>0</td>\n",
       "      <td>0.0</td>\n",
       "      <td>0.0</td>\n",
       "    </tr>\n",
       "    <tr>\n",
       "      <th>1</th>\n",
       "      <td>1</td>\n",
       "      <td>0mie</td>\n",
       "      <td>5.0</td>\n",
       "      <td>Purchased this for my device, it worked as adv...</td>\n",
       "      <td>2013-10-25</td>\n",
       "      <td>409</td>\n",
       "      <td>0</td>\n",
       "      <td>0</td>\n",
       "      <td>0</td>\n",
       "      <td>0</td>\n",
       "      <td>0.0</td>\n",
       "      <td>0.0</td>\n",
       "    </tr>\n",
       "    <tr>\n",
       "      <th>2</th>\n",
       "      <td>2</td>\n",
       "      <td>1K3</td>\n",
       "      <td>4.0</td>\n",
       "      <td>it works as expected. I should have sprung for...</td>\n",
       "      <td>2012-12-23</td>\n",
       "      <td>715</td>\n",
       "      <td>0</td>\n",
       "      <td>0</td>\n",
       "      <td>0</td>\n",
       "      <td>0</td>\n",
       "      <td>0.0</td>\n",
       "      <td>0.0</td>\n",
       "    </tr>\n",
       "    <tr>\n",
       "      <th>3</th>\n",
       "      <td>3</td>\n",
       "      <td>1m2</td>\n",
       "      <td>5.0</td>\n",
       "      <td>This think has worked out great.Had a diff. br...</td>\n",
       "      <td>2013-11-21</td>\n",
       "      <td>382</td>\n",
       "      <td>0</td>\n",
       "      <td>0</td>\n",
       "      <td>0</td>\n",
       "      <td>0</td>\n",
       "      <td>0.0</td>\n",
       "      <td>0.0</td>\n",
       "    </tr>\n",
       "    <tr>\n",
       "      <th>4</th>\n",
       "      <td>4</td>\n",
       "      <td>2&amp;amp;1/2Men</td>\n",
       "      <td>5.0</td>\n",
       "      <td>Bought it with Retail Packaging, arrived legit...</td>\n",
       "      <td>2013-07-13</td>\n",
       "      <td>513</td>\n",
       "      <td>0</td>\n",
       "      <td>0</td>\n",
       "      <td>0</td>\n",
       "      <td>0</td>\n",
       "      <td>0.0</td>\n",
       "      <td>0.0</td>\n",
       "    </tr>\n",
       "  </tbody>\n",
       "</table>\n",
       "</div>"
      ],
      "text/plain": [
       "   Unnamed: 0  reviewerName  overall  \\\n",
       "0           0           NaN      4.0   \n",
       "1           1          0mie      5.0   \n",
       "2           2           1K3      4.0   \n",
       "3           3           1m2      5.0   \n",
       "4           4  2&amp;1/2Men      5.0   \n",
       "\n",
       "                                          reviewText  reviewTime  day_diff  \\\n",
       "0                                         No issues.  2014-07-23       138   \n",
       "1  Purchased this for my device, it worked as adv...  2013-10-25       409   \n",
       "2  it works as expected. I should have sprung for...  2012-12-23       715   \n",
       "3  This think has worked out great.Had a diff. br...  2013-11-21       382   \n",
       "4  Bought it with Retail Packaging, arrived legit...  2013-07-13       513   \n",
       "\n",
       "   helpful_yes  helpful_no  total_vote  score_pos_neg_diff  \\\n",
       "0            0           0           0                   0   \n",
       "1            0           0           0                   0   \n",
       "2            0           0           0                   0   \n",
       "3            0           0           0                   0   \n",
       "4            0           0           0                   0   \n",
       "\n",
       "   score_average_rating  wilson_lower_bound  \n",
       "0                   0.0                 0.0  \n",
       "1                   0.0                 0.0  \n",
       "2                   0.0                 0.0  \n",
       "3                   0.0                 0.0  \n",
       "4                   0.0                 0.0  "
      ]
     },
     "execution_count": 158,
     "metadata": {},
     "output_type": "execute_result"
    }
   ],
   "source": [
    "amazon_df.head()"
   ]
  },
  {
   "cell_type": "code",
   "execution_count": 159,
   "id": "7693a239-a800-48ee-bc50-12d1984fd272",
   "metadata": {},
   "outputs": [
    {
     "data": {
      "text/plain": [
       "(4915, 12)"
      ]
     },
     "execution_count": 159,
     "metadata": {},
     "output_type": "execute_result"
    }
   ],
   "source": [
    "amazon_df.shape"
   ]
  },
  {
   "cell_type": "code",
   "execution_count": 160,
   "id": "35ceb768-b204-4b4f-aad4-889e8b0e70e2",
   "metadata": {},
   "outputs": [
    {
     "data": {
      "text/plain": [
       "Unnamed: 0              0.00\n",
       "reviewerName            0.02\n",
       "overall                 0.00\n",
       "reviewText              0.02\n",
       "reviewTime              0.00\n",
       "day_diff                0.00\n",
       "helpful_yes             0.00\n",
       "helpful_no              0.00\n",
       "total_vote              0.00\n",
       "score_pos_neg_diff      0.00\n",
       "score_average_rating    0.00\n",
       "wilson_lower_bound      0.00\n",
       "dtype: float64"
      ]
     },
     "execution_count": 160,
     "metadata": {},
     "output_type": "execute_result"
    }
   ],
   "source": [
    "round((amazon_df.isna().sum()/amazon_df.shape[0])*100,3)"
   ]
  },
  {
   "cell_type": "code",
   "execution_count": 161,
   "id": "77ab41f8-7436-4707-8e1e-bc9060808ac1",
   "metadata": {},
   "outputs": [],
   "source": [
    "amazon_df.dropna(inplace = True)"
   ]
  },
  {
   "cell_type": "code",
   "execution_count": 162,
   "id": "fd8183dc-2d56-49ae-ab1e-1c35cb77f33a",
   "metadata": {},
   "outputs": [
    {
     "data": {
      "text/plain": [
       "(4913, 12)"
      ]
     },
     "execution_count": 162,
     "metadata": {},
     "output_type": "execute_result"
    }
   ],
   "source": [
    "amazon_df.shape"
   ]
  },
  {
   "cell_type": "markdown",
   "id": "394e8dc1-3472-4bb2-8746-84252ebbd089",
   "metadata": {},
   "source": [
    "### Text Preprocessing"
   ]
  },
  {
   "cell_type": "code",
   "execution_count": 163,
   "id": "34fbf9ac-cb48-444a-9825-8dacc972c1a5",
   "metadata": {},
   "outputs": [],
   "source": [
    "def preprocess_reviews(df):\n",
    "    df['reviewText'] = df['reviewText'].apply(lambda x: \" \".join(x.lower() for x in str(x).split()))\n",
    "    df['reviewText'] = df['reviewText'].str.replace('[^\\w\\s]', '')\n",
    "    df['reviewText'] = df['reviewText'].str.replace('\\d', '')\n",
    "\n",
    "    stop_words = set(stopwords.words(\"english\"))\n",
    "    stop_words.discard(\"no\")\n",
    "    stop_words.discard(\"not\")\n",
    "    df['reviewText'] = df['reviewText'].apply(lambda x: \" \".join(x for x in str(x).split() if x not in stop_words))\n",
    "\n",
    "    document = df['reviewText']\n",
    "    all_words = [word for sentence in document for word in sentence.split()]\n",
    "    count_word_frequency = FreqDist(all_words)\n",
    "    common_words_list = [word for word, count in count_word_frequency.items() if count >= 1]\n",
    "    df['reviewText'] = df['reviewText'].apply(lambda x: \" \".join(x for x in str(x).split() if x in common_words_list))\n",
    "\n",
    "    lemmatizer = WordNetLemmatizer()\n",
    "    df['reviewText'] = df['reviewText'].apply(lambda x: \" \".join(lemmatizer.lemmatize(x) for x in str(x).split()))\n",
    "\n",
    "    return df\n",
    "\n",
    "preprocessed_df = preprocess_reviews(amazon_df.copy())"
   ]
  },
  {
   "cell_type": "code",
   "execution_count": 164,
   "id": "e02075c9-a632-4fd8-a7c2-30be37cb2b3c",
   "metadata": {},
   "outputs": [
    {
     "data": {
      "text/plain": [
       "1    purchased device, worked advertised. never muc...\n",
       "2    work expected. sprung higher capacity. think m...\n",
       "3    think worked great.had diff. bran 64gb card we...\n",
       "4    bought retail packaging, arrived legit, orange...\n",
       "5    mini storage. anything else not supposed to. p...\n",
       "Name: reviewText, dtype: object"
      ]
     },
     "execution_count": 164,
     "metadata": {},
     "output_type": "execute_result"
    }
   ],
   "source": [
    "preprocessed_df['reviewText'].head()"
   ]
  },
  {
   "cell_type": "markdown",
   "id": "471275da-a95c-4e7a-a9fc-d6d51248e728",
   "metadata": {},
   "source": [
    "### Sentiment Analyzer"
   ]
  },
  {
   "cell_type": "code",
   "execution_count": 170,
   "id": "440576b9-93ed-4007-b033-9c3360a7cf42",
   "metadata": {},
   "outputs": [],
   "source": [
    "sia = SentimentIntensityAnalyzer()\n",
    "preprocessed_df['polarity_score'] = preprocessed_df['reviewText'].apply(lambda x : sia.polarity_scores(x)[\"compound\"])\n",
    "preprocessed_df['polarity_score'] = preprocessed_df['polarity_score'].apply(lambda x : 1 if x>=0 else 0)"
   ]
  },
  {
   "cell_type": "markdown",
   "id": "85b889fb-e023-4ae0-9c20-bbe87ec9e105",
   "metadata": {},
   "source": [
    "### Selecting Revelant Features to build the model"
   ]
  },
  {
   "cell_type": "code",
   "execution_count": 171,
   "id": "6936b11b-dd79-4926-9f86-f69b68fa3050",
   "metadata": {},
   "outputs": [],
   "source": [
    "data = preprocessed_df[['polarity_score','reviewText']]"
   ]
  },
  {
   "cell_type": "code",
   "execution_count": 172,
   "id": "495270ac-923b-4a2b-96a5-82305536dd8a",
   "metadata": {},
   "outputs": [
    {
     "data": {
      "text/html": [
       "<div>\n",
       "<style scoped>\n",
       "    .dataframe tbody tr th:only-of-type {\n",
       "        vertical-align: middle;\n",
       "    }\n",
       "\n",
       "    .dataframe tbody tr th {\n",
       "        vertical-align: top;\n",
       "    }\n",
       "\n",
       "    .dataframe thead th {\n",
       "        text-align: right;\n",
       "    }\n",
       "</style>\n",
       "<table border=\"1\" class=\"dataframe\">\n",
       "  <thead>\n",
       "    <tr style=\"text-align: right;\">\n",
       "      <th></th>\n",
       "      <th>polarity_score</th>\n",
       "      <th>reviewText</th>\n",
       "    </tr>\n",
       "  </thead>\n",
       "  <tbody>\n",
       "    <tr>\n",
       "      <th>1</th>\n",
       "      <td>0</td>\n",
       "      <td>purchased device, worked advertised. never muc...</td>\n",
       "    </tr>\n",
       "    <tr>\n",
       "      <th>2</th>\n",
       "      <td>0</td>\n",
       "      <td>work expected. sprung higher capacity. think m...</td>\n",
       "    </tr>\n",
       "    <tr>\n",
       "      <th>3</th>\n",
       "      <td>1</td>\n",
       "      <td>think worked great.had diff. bran 64gb card we...</td>\n",
       "    </tr>\n",
       "    <tr>\n",
       "      <th>4</th>\n",
       "      <td>1</td>\n",
       "      <td>bought retail packaging, arrived legit, orange...</td>\n",
       "    </tr>\n",
       "    <tr>\n",
       "      <th>5</th>\n",
       "      <td>1</td>\n",
       "      <td>mini storage. anything else not supposed to. p...</td>\n",
       "    </tr>\n",
       "  </tbody>\n",
       "</table>\n",
       "</div>"
      ],
      "text/plain": [
       "   polarity_score                                         reviewText\n",
       "1               0  purchased device, worked advertised. never muc...\n",
       "2               0  work expected. sprung higher capacity. think m...\n",
       "3               1  think worked great.had diff. bran 64gb card we...\n",
       "4               1  bought retail packaging, arrived legit, orange...\n",
       "5               1  mini storage. anything else not supposed to. p..."
      ]
     },
     "execution_count": 172,
     "metadata": {},
     "output_type": "execute_result"
    }
   ],
   "source": [
    "data.head()"
   ]
  },
  {
   "cell_type": "code",
   "execution_count": 173,
   "id": "da71466b-423a-4a99-bf3c-6ed647a22a45",
   "metadata": {},
   "outputs": [
    {
     "data": {
      "text/plain": [
       "polarity_score    0\n",
       "reviewText        0\n",
       "dtype: int64"
      ]
     },
     "execution_count": 173,
     "metadata": {},
     "output_type": "execute_result"
    }
   ],
   "source": [
    "data.isna().sum()"
   ]
  },
  {
   "cell_type": "markdown",
   "id": "64f0482e-4f1f-4f5e-a46a-5e90b4a30f73",
   "metadata": {},
   "source": [
    "### Train Test Split"
   ]
  },
  {
   "cell_type": "code",
   "execution_count": 186,
   "id": "582f8259-2a00-4f62-b95b-6b639c3f0549",
   "metadata": {},
   "outputs": [],
   "source": [
    "X_train, X_test, y_train, y_test = train_test_split(data[\"reviewText\"], data[\"polarity_score\"], random_state= 42)"
   ]
  },
  {
   "cell_type": "markdown",
   "id": "7912d9f4-d5fc-4da8-a288-fb26e60daa1d",
   "metadata": {},
   "source": [
    "### Word to Vectors"
   ]
  },
  {
   "cell_type": "markdown",
   "id": "f9a11c67-b146-489f-b7d6-9cb8f130a693",
   "metadata": {},
   "source": [
    "#### Bag of Words"
   ]
  },
  {
   "cell_type": "code",
   "execution_count": 197,
   "id": "b1682409-06e1-49b1-8da6-668417f10e39",
   "metadata": {},
   "outputs": [],
   "source": [
    "def word_to_vectors_bow(X_train, X_test):\n",
    "    count_vectorizer = CountVectorizer()\n",
    "    X_train_count_vectorizer = count_vectorizer.fit_transform(X_train)\n",
    "    X_test_count_vectorizer = count_vectorizer.transform(X_test)\n",
    "    return X_train_count_vectorizer, X_test_count_vectorizer"
   ]
  },
  {
   "cell_type": "markdown",
   "id": "1ba84163-26e9-455f-b0ef-3c981dd7bca7",
   "metadata": {},
   "source": [
    "#### TFIDF "
   ]
  },
  {
   "cell_type": "code",
   "execution_count": 204,
   "id": "d1f23198-3426-48d9-84c3-439ee2539f12",
   "metadata": {},
   "outputs": [],
   "source": [
    "def word_to_vectors_tf_idf(X_train, X_test):\n",
    "    tf_idf_word_vectorizer = TfidfVectorizer()\n",
    "    X_train_tf_idf_word = tf_idf_word_vectorizer.fit_transform(X_train)\n",
    "    X_test_tf_idf_word = tf_idf_word_vectorizer.transform(X_test)\n",
    "    return X_train_tf_idf_word, X_test_tf_idf_word"
   ]
  },
  {
   "cell_type": "code",
   "execution_count": 210,
   "id": "bff4a646-787b-4b6f-add5-babf62eb2922",
   "metadata": {},
   "outputs": [],
   "source": [
    "def word_to_vectors_tf_idf_ngram(X_train, X_test):\n",
    "    tf_idf_ngram_vectorizer = TfidfVectorizer(ngram_range= (2,3))\n",
    "    X_train_tf_idf_ngram = tf_idf_ngram_vectorizer.fit_transform(X_train)\n",
    "    X_test_tf_idf_ngram = tf_idf_ngram_vectorizer.transform(X_test)\n",
    "    return X_train_tf_idf_ngram, X_test_tf_idf_ngram"
   ]
  },
  {
   "cell_type": "code",
   "execution_count": 213,
   "id": "04579ac4-43ed-424b-abc2-e24f46ad8edc",
   "metadata": {},
   "outputs": [],
   "source": [
    "def word_to_vectors_tf_idf_char(X_train, X_test):\n",
    "    tf_idf_char_vectorizer = TfidfVectorizer(analyzer=\"char\", ngram_range=(2,3))\n",
    "    X_train_tf_idf_char = tf_idf_char_vectorizer.fit_transform(X_train)\n",
    "    X_test_tf_idf_char = tf_idf_char_vectorizer.transform(X_test)\n",
    "    return X_train_tf_idf_char, X_test_tf_idf_char"
   ]
  },
  {
   "cell_type": "markdown",
   "id": "92e2b4ad-8c00-4034-93f0-07f3f84da8aa",
   "metadata": {},
   "source": [
    "###  Model Training"
   ]
  },
  {
   "cell_type": "code",
   "execution_count": 201,
   "id": "3246e1a6-cb28-48a9-a63b-4ba0dc864d92",
   "metadata": {},
   "outputs": [
    {
     "name": "stdout",
     "output_type": "stream",
     "text": [
      "Accuracy: 0.8681855166802278\n"
     ]
    }
   ],
   "source": [
    "x_train_count_vectorizer, x_test_count_vectorizer = word_to_vectors_bow(X_train, X_test)\n",
    "logistic_model = LogisticRegression()\n",
    "logistic_model.fit(x_train_count_vectorizer, y_train)\n",
    "y_predict = logistic_model.predict(x_test_count_vectorizer)\n",
    "accuracy = accuracy_score(y_test, y_predict)\n",
    "print(\"Accuracy:\", accuracy)"
   ]
  },
  {
   "cell_type": "code",
   "execution_count": 205,
   "id": "2c395ef9-8800-4737-9bf5-1947e743b5ab",
   "metadata": {},
   "outputs": [
    {
     "name": "stdout",
     "output_type": "stream",
     "text": [
      "Accuracy: 0.8510984540276648\n"
     ]
    }
   ],
   "source": [
    "X_train_tf_idf_word, X_test_tf_idf_word = word_to_vectors_tf_idf(X_train, X_test)\n",
    "logistic_model = LogisticRegression()\n",
    "logistic_model.fit(X_train_tf_idf_word, y_train)\n",
    "y_predict = logistic_model.predict(X_test_tf_idf_word)\n",
    "accuracy = accuracy_score(y_test, y_predict)\n",
    "print(\"Accuracy:\", accuracy)"
   ]
  },
  {
   "cell_type": "code",
   "execution_count": 211,
   "id": "a0540371-6f45-4aeb-b230-fdfa01ecfad1",
   "metadata": {},
   "outputs": [
    {
     "name": "stdout",
     "output_type": "stream",
     "text": [
      "Accuracy: 0.8218063466232709\n"
     ]
    }
   ],
   "source": [
    "X_train_tf_idf_ngram, X_test_tf_idf_ngram = word_to_vectors_tf_idf_ngram(X_train, X_test)\n",
    "logistic_model = LogisticRegression()\n",
    "logistic_model.fit(X_train_tf_idf_ngram, y_train)\n",
    "y_predict = logistic_model.predict(X_test_tf_idf_ngram)\n",
    "accuracy = accuracy_score(y_test, y_predict)\n",
    "print(\"Accuracy:\", accuracy)"
   ]
  },
  {
   "cell_type": "code",
   "execution_count": 214,
   "id": "5dc1631a-9bb1-47e8-8976-67f9253762ac",
   "metadata": {},
   "outputs": [
    {
     "name": "stdout",
     "output_type": "stream",
     "text": [
      "Accuracy: 0.8421480878763222\n"
     ]
    }
   ],
   "source": [
    "X_train_tf_idf_char, X_test_tf_idf_char = word_to_vectors_tf_idf_char(X_train, X_test)\n",
    "logistic_model = LogisticRegression()\n",
    "logistic_model.fit(X_train_tf_idf_char, y_train)\n",
    "y_predict = logistic_model.predict(X_test_tf_idf_char)\n",
    "accuracy = accuracy_score(y_test, y_predict)\n",
    "print(\"Accuracy:\", accuracy)"
   ]
  },
  {
   "cell_type": "code",
   "execution_count": null,
   "id": "9b17de84-a211-44ce-869a-3d90ed8e539c",
   "metadata": {},
   "outputs": [],
   "source": []
  }
 ],
 "metadata": {
  "kernelspec": {
   "display_name": "Python 3 (ipykernel)",
   "language": "python",
   "name": "python3"
  },
  "language_info": {
   "codemirror_mode": {
    "name": "ipython",
    "version": 3
   },
   "file_extension": ".py",
   "mimetype": "text/x-python",
   "name": "python",
   "nbconvert_exporter": "python",
   "pygments_lexer": "ipython3",
   "version": "3.11.5"
  }
 },
 "nbformat": 4,
 "nbformat_minor": 5
}
